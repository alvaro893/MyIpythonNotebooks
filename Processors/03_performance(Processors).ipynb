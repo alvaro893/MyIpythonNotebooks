{
 "metadata": {
  "name": "",
  "signature": "sha256:50929141336b00b308147502d0d5773cf8b69a21622c3504c52b12cf5414e1b1"
 },
 "nbformat": 3,
 "nbformat_minor": 0,
 "worksheets": [
  {
   "cells": [
    {
     "cell_type": "code",
     "collapsed": false,
     "input": [
      "%pylab inline\n",
      "from __future__ import division"
     ],
     "language": "python",
     "metadata": {},
     "outputs": [
      {
       "output_type": "stream",
       "stream": "stdout",
       "text": [
        "Populating the interactive namespace from numpy and matplotlib\n"
       ]
      }
     ],
     "prompt_number": 8
    },
    {
     "cell_type": "markdown",
     "metadata": {},
     "source": [
      "### Amdahl's law\n",
      "- t is execution time for entire tak without using the enhancement\n",
      "- t_e is the same but using enhancement\n",
      "- p is equal to the number of processor cores\n",
      "- alpha is fraction to enhance and is the portion of your task that can be parallelized\n"
     ]
    },
    {
     "cell_type": "code",
     "collapsed": false,
     "input": [
      "def speedup(t,t_e): return t/t_e\n",
      "def suf(alpha,p): return 1/(1-alpha  + alpha/p)\n",
      "def p(suf, alpha): return alpha/(1/(suf-(1-alpha)))"
     ],
     "language": "python",
     "metadata": {},
     "outputs": [],
     "prompt_number": 9
    },
    {
     "cell_type": "markdown",
     "metadata": {},
     "source": [
      "### Processor performance equation\n",
      "- cpu_t: cpu time\n",
      "- cycles: clock cycles for a program\n",
      "- rate: clock rate\n",
      "- cpi: average number of clock cycles per instruction\n",
      "- count: Instrution count"
     ]
    },
    {
     "cell_type": "code",
     "collapsed": false,
     "input": [
      "def cpu_t(cycles, rate): return cycles/rate\n",
      "def cpi(cycles, count): return cycles/count\n",
      "def cpu_t2(count, cpi, rate): return count*cpi/rate"
     ],
     "language": "python",
     "metadata": {},
     "outputs": [],
     "prompt_number": 10
    },
    {
     "cell_type": "markdown",
     "metadata": {},
     "source": [
      "#### Exercise 1\n",
      "A computer spends 30% of its time accessing memory, 20% performing multiplications and 50% executing\n",
      "other instructions. As a computer architect you have to choose between improving the memory system,\n",
      "multiplication hardware or execution of non multiplication instructions. There is space on chip for only one\n",
      "improvement. Each of the improvement will improve its associated part of computation by a factor of 2.\n",
      "1. Without performing calculations, which improvement would you expect to give the largest\n",
      "performance increase and why?\n",
      "2. What speedup would making each of these three changes give?"
     ]
    },
    {
     "cell_type": "markdown",
     "metadata": {},
     "source": [
      "---\n",
      "\n",
      "1. Because the improvement factor is the same and the computer spends more time executing non multiplication instructions I supouse improving that is worth than improve others.\n",
      "2. As you can see"
     ]
    },
    {
     "cell_type": "code",
     "collapsed": false,
     "input": [
      "print \"improving memory speedup =\", suf(0.3, 2)\n",
      "print \"improving multiplications speedup =\", suf(0.2, 2)\n",
      "print \"improving other instructions speedup =\", suf(0.5, 5)"
     ],
     "language": "python",
     "metadata": {},
     "outputs": [
      {
       "output_type": "stream",
       "stream": "stdout",
       "text": [
        "improving memory speedup = 1.17647058824\n",
        "improving multiplications speedup = 1.11111111111\n",
        "improving other instructions speedup = 1.66666666667\n"
       ]
      }
     ],
     "prompt_number": 17
    },
    {
     "cell_type": "markdown",
     "metadata": {},
     "source": [
      "So it is better improve the non multiplication instructions."
     ]
    },
    {
     "cell_type": "markdown",
     "metadata": {},
     "source": [
      "#### Exercise 2\n",
      "A computer architect is designing the memory system for the next version of a processor. If the current\n",
      "version of the processor spends 40% of its time processing memory references, by how much must the\n",
      "architect speed up the memory system to achieve an overall speedup of 1.2?"
     ]
    },
    {
     "cell_type": "code",
     "collapsed": false,
     "input": [
      "wasted_time = .4 # this is alpha\n",
      "process_time = 1 - wasted_time # this is alpha -\n",
      "speedup = 1.2\n",
      "t_e = wasted_time/speedup\n",
      "\n",
      "print \"access memory is improved by \",t_e*100,\"%\"\n",
      "p =  wasted_time/(1/speedup - process_time )\n",
      "print \"speedup enhacenment = \", p\n",
      "print \"check:\", suf(wasted_time, p) == speedup"
     ],
     "language": "python",
     "metadata": {},
     "outputs": [
      {
       "output_type": "stream",
       "stream": "stdout",
       "text": [
        "access memory is improved by  33.3333333333 %\n",
        "speedup enhacenment =  1.71428571429\n",
        "check: True\n"
       ]
      }
     ],
     "prompt_number": 12
    },
    {
     "cell_type": "markdown",
     "metadata": {},
     "source": [
      "#### Exercise 3\n",
      "Consider an architecture that has four types of instructions: additions, multiplications, memory operations\n",
      "and branches. The following table gives the number of instructions of each type in your program, the\n",
      "number of cycles it takes to execute each instruction and the speedup in the execution from a proposed\n",
      "improvement. Rank the improvements in terms of their impact on overall performance."
     ]
    },
    {
     "cell_type": "code",
     "collapsed": false,
     "input": [],
     "language": "python",
     "metadata": {},
     "outputs": [],
     "prompt_number": 12
    },
    {
     "cell_type": "markdown",
     "metadata": {},
     "source": [
      "####Exercise 4\n",
      "A computer for rendering digital special effects has 8 processor cores. The rendering program has 20%\n",
      "serial portion and the rest of the rendering is parallelizable and can be run on any number of cores. You\n",
      "have an option of increasing the number of cores to 16 or improve rendering program so that the serial\n",
      "portion of the program is dropped to 10%. Which of the improvements should you choose?"
     ]
    },
    {
     "cell_type": "code",
     "collapsed": false,
     "input": [
      "# Using the suf formula\n",
      "print \"with 20% serial portion and 8 cores, SUF =\",suf(.8, 8)\n",
      "print \"with 20% serial portion and 16 cores, SUF =\",suf(.8, 16)\n",
      "print \"with 10% serial portion and 8 cores, SUF =\",suf(.9,8)"
     ],
     "language": "python",
     "metadata": {},
     "outputs": [
      {
       "output_type": "stream",
       "stream": "stdout",
       "text": [
        "with 20% serial portion and 8 cores, SUF = 3.33333333333\n",
        "with 20% serial portion and 16 cores, SUF = 4.0\n",
        "with 10% serial portion and 8 cores, SUF = 4.70588235294\n"
       ]
      }
     ],
     "prompt_number": 13
    },
    {
     "cell_type": "markdown",
     "metadata": {},
     "source": [
      "So the best choice is improve the rendering program instead increasing the number of cores"
     ]
    }
   ],
   "metadata": {}
  }
 ]
}