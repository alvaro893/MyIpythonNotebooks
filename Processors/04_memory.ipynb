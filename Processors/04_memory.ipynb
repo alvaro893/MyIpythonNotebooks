{
 "metadata": {
  "name": "",
  "signature": "sha256:48a3362176c55001229b27fa16fa07a16c1961719a09d03f1217609a9d1f7e05"
 },
 "nbformat": 3,
 "nbformat_minor": 0,
 "worksheets": [
  {
   "cells": [
    {
     "cell_type": "code",
     "collapsed": false,
     "input": [
      "from __future__ import division"
     ],
     "language": "python",
     "metadata": {},
     "outputs": [],
     "prompt_number": 85
    },
    {
     "cell_type": "markdown",
     "metadata": {},
     "source": [
      "# 04 Memory\n",
      "## 1 Exercise\n",
      "A processor has 24 bits in the external address bus. The word length of the bus is 8 bits. The device with the\n",
      "processor has 2 MB Flash memory, 1 MB static RAM and 256 kB EEPROM. In addition 6 MB is reserved for\n",
      "flash expansion, 3 MB for RAM expansion and 2 MB is reserved for unspecified memory expansion. How\n",
      "much can the EEPROM be extended?"
     ]
    },
    {
     "cell_type": "code",
     "collapsed": false,
     "input": [
      "# Define \n",
      "B = 8\n",
      "k = 1024\n",
      "M = k*k\n",
      "G = k*k*k\n",
      "\n",
      "bus = 24 #bits\n",
      "word = 8 #bits\n",
      "EEPROM = 256*k*B #256 kB\n",
      "expansion = 2*M*B\n",
      "\n",
      "# How much memory blocks of 256 kb ?\n",
      "blocks = expansion/EEPROM\n",
      "print \"number of expansion memory blocks of 256kB:\", blocks\n",
      "\n",
      "# amount of memory\n",
      "print \"The EEPROM can be extended by:\",(expansion-EEPROM)/(M*B),\"MB\"\n",
      "\n",
      "# total memory\n",
      "T = (2+1+6+3+2)*M*B + 256*k*B\n",
      "print \"Total memory:\", T/(M*B),\"MB\"\n",
      "print \"Total blocks:\", T/EEPROM,"
     ],
     "language": "python",
     "metadata": {},
     "outputs": [
      {
       "output_type": "stream",
       "stream": "stdout",
       "text": [
        "number of expansion memory blocks of 256kB: 8.0\n",
        "The EEPROM can be extended by: 1.75 MB\n",
        "Total memory: 14.25 MB\n",
        "Total blocks: 57.0\n"
       ]
      }
     ],
     "prompt_number": 86
    },
    {
     "cell_type": "markdown",
     "metadata": {},
     "source": [
      "## Exercise 2\n",
      "The processor of the previous exercise set PC to address 0 at reset. Sketch a memory map for the\n",
      "processor. Memory map shows start and end address of each memory type in a table."
     ]
    },
    {
     "cell_type": "markdown",
     "metadata": {},
     "source": [
      "### The max amount of addressable memory is 16 MB\n",
      "<img src=\"04_memory/map.png\" width=\"60%\">"
     ]
    },
    {
     "cell_type": "markdown",
     "metadata": {},
     "source": [
      "## Exercise 3\n",
      "Computer has 4 gigabytes of memory and bus width is 32 bits. Memory is constructed using 128 M x 8\n",
      "memory chips. How many chips are needed and how they should be organized?"
     ]
    },
    {
     "cell_type": "code",
     "collapsed": false,
     "input": [
      "print \"We need\", int(4*1024 / 128), \"chips\""
     ],
     "language": "python",
     "metadata": {},
     "outputs": [
      {
       "output_type": "stream",
       "stream": "stdout",
       "text": [
        "We need 32 chips\n"
       ]
      }
     ],
     "prompt_number": 87
    },
    {
     "cell_type": "markdown",
     "metadata": {},
     "source": [
      "<img src=\"04_memory/memory.png\" width=\"70%\">"
     ]
    }
   ],
   "metadata": {}
  }
 ]
}