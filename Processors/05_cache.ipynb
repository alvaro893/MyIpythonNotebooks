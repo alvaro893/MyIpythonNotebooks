{
 "metadata": {
  "name": "",
  "signature": "sha256:bd22781e6077f88801eb9b00b3c5b3974d044d9e66fc33a58dcf82ebca7383f6"
 },
 "nbformat": 3,
 "nbformat_minor": 0,
 "worksheets": [
  {
   "cells": [
    {
     "cell_type": "markdown",
     "metadata": {},
     "source": [
      "# 05 Cache\n"
     ]
    },
    {
     "cell_type": "code",
     "collapsed": false,
     "input": [
      "#from __future__ import division\n",
      "%pylab inline\n",
      "from IPython.display import HTML"
     ],
     "language": "python",
     "metadata": {},
     "outputs": [
      {
       "output_type": "stream",
       "stream": "stdout",
       "text": [
        "Populating the interactive namespace from numpy and matplotlib\n"
       ]
      }
     ],
     "prompt_number": 2
    },
    {
     "cell_type": "markdown",
     "metadata": {},
     "source": [
      "### 1. A computer has a 4 GB main memory and a 128 KB cache. What is the number of bits in tag, index and block offset fields when cache is organized as follows:\n",
      "- a) direct mapping, block size 64 bytes\n",
      "- b) set associative mapping, block size 64 bytes, two blocks per set (2-way set associative)\n",
      "- c) set associative mapping, block size 64 bytes, eight blocks per set (8-way set associative)"
     ]
    },
    {
     "cell_type": "code",
     "collapsed": false,
     "input": [
      "# functions to perform data\n",
      "toKb = lambda(x): str(x/2**10) + \"Kb\"\n",
      "toMb = lambda(x): str(x/2**20) + \"Mb\"\n",
      "toGb = lambda(x): str(x/2**30) + \"Gb\"\n",
      "\n",
      "# Notes of address mapping function:\n",
      "# 1. all the quantitys should be given in bits/bytes i.e. 1G -> 2**30\n",
      "# 2. if ways = 1 -> direct mapping (default), if ways > 1 then associative mapping\n",
      "def address_mapping(maxMemory, blockSize, cacheSize, ways = 1):\n",
      "    # log2 gives the number of bits\n",
      "    lines = cacheSize / (ways * blockSize)\n",
      "    index = log2(lines)\n",
      "    blockNr = log2(maxMemory / blockSize)\n",
      "    #index = blockNr % lines\n",
      "    tag = blockNr - index\n",
      "    \n",
      "    print \"max memory size:\", toGb(maxMemory), \"-- block size:\", blockSize, \"bytes\", \"-- cache size:\", toKb(cacheSize), \"\\n\", \\\n",
      "    \"lines:\", lines, \"\\n\", \"block number:\", blockNr, \"\\n\", \"tag:\", tag, \"\\n\", \"index:\", index, \"\\n\"\n",
      "# -------------------------------------\n",
      "print \"example)...\"# example..    \n",
      "address_mapping(2**30, 16, 16 * 2**10, ways = 2)\n",
      "print \"a)\"#a)\n",
      "address_mapping(2**32, 16, 2**17)\n",
      "print \"b)\"#b)\n",
      "address_mapping(2**32, 16, 2**17, ways=2)\n",
      "print \"c)\"#c)\n",
      "address_mapping(2**32, 16, 2**17, ways=8)"
     ],
     "language": "python",
     "metadata": {},
     "outputs": [
      {
       "output_type": "stream",
       "stream": "stdout",
       "text": [
        "example)...\n",
        "max memory size: 1Gb -- block size: 16 bytes -- cache size: 16Kb \n",
        "lines: 512 \n",
        "block number: 26.0 \n",
        "tag: 17.0 \n",
        "index: 9.0 \n",
        "\n",
        "a)\n",
        "max memory size: 4Gb -- block size: 16 bytes -- cache size: 128Kb \n",
        "lines: 8192 \n",
        "block number: 28.0 \n",
        "tag: 15.0 \n",
        "index: 13.0 \n",
        "\n",
        "b)\n",
        "max memory size: 4Gb -- block size: 16 bytes -- cache size: 128Kb \n",
        "lines: 4096 \n",
        "block number: 28.0 \n",
        "tag: 16.0 \n",
        "index: 12.0 \n",
        "\n",
        "c)\n",
        "max memory size: 4Gb -- block size: 16 bytes -- cache size: 128Kb \n",
        "lines: 1024 \n",
        "block number: 28.0 \n",
        "tag: 18.0 \n",
        "index: 10.0 \n",
        "\n"
       ]
      }
     ],
     "prompt_number": 5
    },
    {
     "cell_type": "markdown",
     "metadata": {},
     "source": [
      "##2.Compute average memory access times in clock cycles for the two processors assuming that caches are 8-way set associative and that miss rate for caches over 512KB is 0,004 for other sizes use the table below. Assume that miss penalty is equal to lower level latency.\n",
      "Intel Nehalem Intel Penryn\n",
      "L1 Size / L1 Latency 64KB / 4 cycles 64KB / 3 cycles <br>\n",
      "L2 Size / L2 Latency 256KB / 11 cycles 6MB / 15 cycles <br>\n",
      "L3 Size / L3 Latency 8MB / 39 cycles N/A <br>\n",
      "Main Memory Latency (DDR3-1600 CAS7) 107 cycles (33.4 ns) 160 cycles (50.3 ns) <br>"
     ]
    },
    {
     "cell_type": "code",
     "collapsed": false,
     "input": [
      "# Average memory access time\n",
      "amat = lambda(hitRate,hitTime,missTime,missRate): hitRate*hitTime + missTime*missRate\n",
      "missPenalty = hitTime - missTime\n",
      "missRate = 0.004 # if cache > 512KB\n",
      "\n",
      "# Nehalem\n",
      "L1Size = 2**16 #16KB\n",
      "L1Lat = 4\n",
      "L1amat = amat()\n",
      "L2Size = 2**18 #256KB\n",
      "L2Lat = 11\n",
      "L3Size = 2**23 #8MB\n",
      "L3lat = 39\n"
     ],
     "language": "python",
     "metadata": {},
     "outputs": []
    },
    {
     "cell_type": "markdown",
     "metadata": {},
     "source": [
      "##3.Blocks in one set of a 4-way set associative cache are referenced in the following order: 3, 2, 1, 0, 2,0, 3, 1. Which of the block will be replaced on a miss is replacement strategy is\n",
      "a) LRU\n",
      "b) FIFO"
     ]
    },
    {
     "cell_type": "code",
     "collapsed": false,
     "input": [
      "2**22/(2**20)\n"
     ],
     "language": "python",
     "metadata": {},
     "outputs": [
      {
       "metadata": {},
       "output_type": "pyout",
       "prompt_number": 10,
       "text": [
        "4"
       ]
      }
     ],
     "prompt_number": 10
    },
    {
     "cell_type": "markdown",
     "metadata": {},
     "source": [
      "##4.Processor that has a cache organization of exercise 1-C accesses memory at address 0x8F3ED5.\n",
      "a) Calculate block number (block address) for the memory reference <br>\n",
      "b) Calculate tag for the memory reference"
     ]
    },
    {
     "cell_type": "code",
     "collapsed": false,
     "input": [],
     "language": "python",
     "metadata": {},
     "outputs": []
    }
   ],
   "metadata": {}
  }
 ]
}