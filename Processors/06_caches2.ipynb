{
 "metadata": {
  "name": "",
  "signature": "sha256:fe11685586c6985283b3932b333a5aff72268312867e3cc35f86e15094fe6046"
 },
 "nbformat": 3,
 "nbformat_minor": 0,
 "worksheets": [
  {
   "cells": [
    {
     "cell_type": "markdown",
     "metadata": {},
     "source": [
      "#06 caches 2"
     ]
    },
    {
     "cell_type": "markdown",
     "metadata": {},
     "source": [
      "##Exercise\n",
      "Consider an L1 cache with an access time of 1 ns and a hit ratio of H=0.9. Suppose that we can change the\n",
      "cache design (size of cache, cache organization) such that we increase H to 0.95, but decrease access time\n",
      "to 1.2 ns. What conditions must be met for this change to result in improved performance? Explain why this\n",
      "result makes intuitive sense."
     ]
    },
    {
     "cell_type": "code",
     "collapsed": false,
     "input": [],
     "language": "python",
     "metadata": {},
     "outputs": []
    },
    {
     "cell_type": "markdown",
     "metadata": {},
     "source": [
      "##Exercise\n",
      "Consider a cache of 4 lines of 16 bytes each. Main memory is divided into blocks of 16 bytes each.\n",
      "Now consider a program that accesses memory in the following sequence of addresses:\n",
      "Once: 63 through 70\n",
      "Loop ten times: 15 through 32; 80 through 95\n",
      "a) Suppose cache is organized as direct mapped. Compute the hit ratio\n",
      "b) Suppose cache is organized as two-way set associative, with two sets of two lines each. Compute\n",
      "the hit ratio for the two-way set-associative cache using the least recently used replacement\n",
      "scheme.\n",
      "You can use the attached cache simulator to complete the exercise. All you need to do is to implement LRU\n",
      "replacement scheme and to program the simulator to perform the memory references above."
     ]
    },
    {
     "cell_type": "code",
     "collapsed": false,
     "input": [],
     "language": "python",
     "metadata": {},
     "outputs": []
    }
   ],
   "metadata": {}
  }
 ]
}