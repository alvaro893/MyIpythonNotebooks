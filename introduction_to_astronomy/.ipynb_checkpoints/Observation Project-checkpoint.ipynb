{
 "metadata": {
  "name": "",
  "signature": "sha256:5cd173163bf1748e7c22db29f71fb49c76f16b584ac2953e3600e44cba676ccc"
 },
 "nbformat": 3,
 "nbformat_minor": 0,
 "worksheets": [
  {
   "cells": [
    {
     "cell_type": "markdown",
     "metadata": {},
     "source": [
      "#Observation Project"
     ]
    }
   ],
   "metadata": {}
  }
 ]
}