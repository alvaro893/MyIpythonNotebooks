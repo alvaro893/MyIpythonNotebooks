{
 "metadata": {
  "name": "",
  "signature": "sha256:b75ecc4812d055aba83ccdd3e15d626a6da2f6376ee227dab32fd791f2a29205"
 },
 "nbformat": 3,
 "nbformat_minor": 0,
 "worksheets": [
  {
   "cells": [
    {
     "cell_type": "code",
     "collapsed": false,
     "input": [
      "# ipython configuration\n",
      "from __future__ import division\n",
      "%pylab inline"
     ],
     "language": "python",
     "metadata": {},
     "outputs": [
      {
       "output_type": "stream",
       "stream": "stdout",
       "text": [
        "Populating the interactive namespace from numpy and matplotlib\n"
       ]
      },
      {
       "output_type": "stream",
       "stream": "stderr",
       "text": [
        "WARNING: pylab import has clobbered these variables: ['inner']\n",
        "`%matplotlib` prevents importing * from pylab and numpy\n"
       ]
      }
     ],
     "prompt_number": 8
    },
    {
     "cell_type": "code",
     "collapsed": false,
     "input": [
      "# Exercise 1\n",
      "# these function give the sideral period from the synodic one.\n",
      "def inner(synodic):\n",
      "    T = 365.25\n",
      "    sideral = 1/(1/synodic + 1/T)\n",
      "    return sideral\n",
      "\n",
      "def ext(synodic):\n",
      "    T = 365.25\n",
      "    sideral = 1/(-1/synodic + 1/T)\n",
      "    return sideral\n",
      "\n",
      "# arrays of plantets (sorted by actual order)\n",
      "planetSynodic = [115.88,583.9,365,779.9,398.9,378.1,369.7,367.5,366.7]\n",
      "planetNames = [\"mercury\",\"Venus\",\"Earth\",\"Mars\",\"Jupiter\",\"Saturn\",\"Uranus\",\"Neptune\",\"pluto\"]\n",
      "planetSideral = [] # to be calculated next line\n",
      "\n",
      "for i in range(len(planetNames)):\n",
      "    \n",
      "    if(i > 2):\n",
      "        sideral = ext(planetSynodic[i])\n",
      "    elif(i == 2):\n",
      "        sideral = 365.25\n",
      "    else:\n",
      "        sideral = inner(planetSynodic[i])\n",
      "        \n",
      "    planetSideral.append(sideral)\n",
      "    print planetNames[i],\":\", planetSideral[i], \"days\"\n"
     ],
     "language": "python",
     "metadata": {},
     "outputs": [
      {
       "output_type": "stream",
       "stream": "stdout",
       "text": [
        "mercury : 87.9703406564 days\n",
        "Venus : 224.695227309 days\n",
        "Earth : 365.25 days\n",
        "Mars : 686.98534909 days\n",
        "Jupiter : 4329.81352155 days\n",
        "Saturn : 10747.1614786 days\n",
        "Uranus : 30344.4775281 days\n",
        "Neptune : 59657.5 days\n",
        "pluto : 92370.4655172 days\n"
       ]
      },
      {
       "metadata": {},
       "output_type": "pyout",
       "prompt_number": 21,
       "text": [
        "182.56247860321807"
       ]
      }
     ],
     "prompt_number": 21
    },
    {
     "cell_type": "code",
     "collapsed": false,
     "input": [
      "# Exercise 2: Using the previous results and Kepler\u2019s Third Law, calculate the distance\n",
      "# (both in AU and Km.) from the Sun to the planets. Compare the results with\n",
      "# the real distances and elaborate your conclusion(s).\n",
      "M = 2e30 # sun mass\n",
      "G = 6.67e-11\n",
      "C = 4*pi**2/(G*M) # \n",
      "def distanceToSun(period):\n",
      "    period = period*24*60*60 # to seconds\n",
      "    return (period**2/C)**(1/3) / 1000\n",
      "\n",
      "for i in range(len(planetNames)):\n",
      "    current = distanceToSun(planetSideral[i])\n",
      "    print planetNames[i],\"distance to sun:\", int(distanceToSun(current)), \"km\", \"or\", current/149597871, \"AU\"\n"
     ],
     "language": "python",
     "metadata": {},
     "outputs": [
      {
       "output_type": "stream",
       "stream": "stdout",
       "text": [
        "mercury distance to sun: 439481230235 km or 0.387769186468 AU\n",
        "Venus distance to sun: 666720329590 km or 0.724566657034 AU\n",
        "Earth distance to sun: 827408285048 km or 1.0017113534 AU\n",
        "Mars distance to sun: 1095611093764 km or 1.52632644854 AU\n",
        "Jupiter distance to sun: 2483129711909 km or 5.20789126333 AU\n",
        "Saturn distance to sun: 3719435214112 km or 9.54725002062 AU\n",
        "Uranus distance to sun: 5899650478611 km or 19.0722628075 AU\n",
        "Neptune distance to sun: 7967254249878 km or 29.9313160647 AU\n",
        "pluto distance to sun: 9675969504503 km or 40.059408701 AU\n"
       ]
      }
     ],
     "prompt_number": 30
    },
    {
     "cell_type": "code",
     "collapsed": false,
     "input": [
      "# Sun\u2019s surface temperature\n",
      "# a) If the peak of the Sun\u2019s visible spectrum is at a wavelength of 500nm, use\n",
      "# Wien\u2019s Law to find its surface temperature.\n",
      "Tsurface=2.897e6/500\n",
      "print \"sun surface:\", Tsurface, \"K\""
     ],
     "language": "python",
     "metadata": {},
     "outputs": [
      {
       "output_type": "stream",
       "stream": "stdout",
       "text": [
        "sun surface: 5794.0 K\n"
       ]
      }
     ],
     "prompt_number": 35
    },
    {
     "cell_type": "code",
     "collapsed": false,
     "input": [
      "# Using the total energy output and the radius of the Sun, use the Stefan-\n",
      "# Boltzmann Law to find the Sun\u2019s surface temperature.\n",
      "sig = 5.67e-8\n",
      "A=2.812e23\n",
      "E = 3.852e26\n",
      "Tsurface=(E/(sig*A))**(1/4)\n",
      "print \"sun surface:\", Tsurface, \"K\""
     ],
     "language": "python",
     "metadata": {},
     "outputs": [
      {
       "output_type": "stream",
       "stream": "stdout",
       "text": [
        "sun surface: 394.250248556 K\n"
       ]
      }
     ],
     "prompt_number": 37
    },
    {
     "cell_type": "code",
     "collapsed": false,
     "input": [],
     "language": "python",
     "metadata": {},
     "outputs": []
    }
   ],
   "metadata": {}
  }
 ]
}