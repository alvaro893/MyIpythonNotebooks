{
 "metadata": {
  "name": "",
  "signature": "sha256:462ae53c400a9ab4686d53dce56be854896e3eb8793e89f5d853ed32a24579bb"
 },
 "nbformat": 3,
 "nbformat_minor": 0,
 "worksheets": [
  {
   "cells": [
    {
     "cell_type": "code",
     "collapsed": false,
     "input": [
      "# ipython configuration\n",
      "from __future__ import division\n",
      "import pandas as pd\n",
      "%pylab inline\n",
      "pd.set_option('display.mpl_style', 'default') # Make the graphs a bit prettier\n",
      "figsize(15, 5)"
     ],
     "language": "python",
     "metadata": {},
     "outputs": [
      {
       "output_type": "stream",
       "stream": "stdout",
       "text": [
        "Populating the interactive namespace from numpy and matplotlib\n"
       ]
      }
     ],
     "prompt_number": 32
    },
    {
     "cell_type": "code",
     "collapsed": false,
     "input": [
      "link_name = 'http://solarscience.msfc.nasa.gov/greenwch/spot_num.txt'\n",
      "spots =  pd.read_csv(link_name, '\\s+',header=0)\n",
      "# Display 4 first rows\n",
      "spots[:5]\n"
     ],
     "language": "python",
     "metadata": {},
     "outputs": [
      {
       "html": [
        "<div style=\"max-height:1000px;max-width:1500px;overflow:auto;\">\n",
        "<table border=\"1\" class=\"dataframe\">\n",
        "  <thead>\n",
        "    <tr style=\"text-align: right;\">\n",
        "      <th></th>\n",
        "      <th>YEAR</th>\n",
        "      <th>MON</th>\n",
        "      <th>SSN</th>\n",
        "      <th>DEV</th>\n",
        "    </tr>\n",
        "  </thead>\n",
        "  <tbody>\n",
        "    <tr>\n",
        "      <th>0</th>\n",
        "      <td> 1749</td>\n",
        "      <td> 1</td>\n",
        "      <td> 58.0</td>\n",
        "      <td> 24.1</td>\n",
        "    </tr>\n",
        "    <tr>\n",
        "      <th>1</th>\n",
        "      <td> 1749</td>\n",
        "      <td> 2</td>\n",
        "      <td> 62.6</td>\n",
        "      <td> 25.1</td>\n",
        "    </tr>\n",
        "    <tr>\n",
        "      <th>2</th>\n",
        "      <td> 1749</td>\n",
        "      <td> 3</td>\n",
        "      <td> 70.0</td>\n",
        "      <td> 26.6</td>\n",
        "    </tr>\n",
        "    <tr>\n",
        "      <th>3</th>\n",
        "      <td> 1749</td>\n",
        "      <td> 4</td>\n",
        "      <td> 55.7</td>\n",
        "      <td> 23.6</td>\n",
        "    </tr>\n",
        "    <tr>\n",
        "      <th>4</th>\n",
        "      <td> 1749</td>\n",
        "      <td> 5</td>\n",
        "      <td> 85.0</td>\n",
        "      <td> 29.4</td>\n",
        "    </tr>\n",
        "  </tbody>\n",
        "</table>\n",
        "</div>"
       ],
       "metadata": {},
       "output_type": "pyout",
       "prompt_number": 31,
       "text": [
        "   YEAR  MON   SSN   DEV\n",
        "0  1749    1  58.0  24.1\n",
        "1  1749    2  62.6  25.1\n",
        "2  1749    3  70.0  26.6\n",
        "3  1749    4  55.7  23.6\n",
        "4  1749    5  85.0  29.4"
       ]
      }
     ],
     "prompt_number": 31
    },
    {
     "cell_type": "code",
     "collapsed": false,
     "input": [
      "year = spots['YEAR'].astype('int')\n",
      "month = spots['MON'].astype('int')\n",
      "ssn = spots['SSN'].astype('float')\n",
      "plot(year, ssn, 'oc')\n",
      "plot(month, ssn, 'oc')\n",
      "figsize=(17,6)\n",
      "xlim(1990,2020)\n",
      "# a = max(ssn)/2\n",
      "# plot(year, a*sin(year)+a)"
     ],
     "language": "python",
     "metadata": {},
     "outputs": [
      {
       "metadata": {},
       "output_type": "pyout",
       "prompt_number": 69,
       "text": [
        "(1990, 2020)"
       ]
      },
      {
       "metadata": {},
       "output_type": "display_data",
       "png": "[encoded data removed]",
       "text": [
        "<matplotlib.figure.Figure at 0x7f05761f97d0>"
       ]
      }
     ],
     "prompt_number": 69
    }
   ],
   "metadata": {}
  }
 ]
}