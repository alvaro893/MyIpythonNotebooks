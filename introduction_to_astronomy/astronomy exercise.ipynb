{
 "metadata": {
  "name": "",
  "signature": "sha256:21f5212cbc009cbed55b7310496c8f3c9daddc235c1aeb987bcba89d15608fe6"
 },
 "nbformat": 3,
 "nbformat_minor": 0,
 "worksheets": [
  {
   "cells": [
    {
     "cell_type": "code",
     "collapsed": false,
     "input": [
      "from __future__ import division\n",
      "%pylab inline"
     ],
     "language": "python",
     "metadata": {},
     "outputs": [
      {
       "output_type": "stream",
       "stream": "stdout",
       "text": [
        "Populating the interactive namespace from numpy and matplotlib\n"
       ]
      },
      {
       "output_type": "stream",
       "stream": "stderr",
       "text": [
        "WARNING: pylab import has clobbered these variables: ['inner']\n",
        "`%matplotlib` prevents importing * from pylab and numpy\n"
       ]
      }
     ],
     "prompt_number": 14
    },
    {
     "cell_type": "code",
     "collapsed": false,
     "input": [
      "# Exercise 1\n",
      "def inner(synodic):\n",
      "    T = 365.25\n",
      "    sideral = 1/(1/synodic + 1/T)\n",
      "    return sideral\n",
      "\n",
      "def ext(synodic):\n",
      "    T = 365.25\n",
      "    sideral = -1/(1/synodic - 1/T)\n",
      "    return sideral\n",
      "# array of plantets\n",
      "planetSynodic = [115.88,583.9,365,398.9,378.1,369.7,367.5,366.7]\n",
      "planetNames = [\"mercury\",\"Venus\",\"Earth\",\"Mars\",\"Jupiter\",\"Saturn\",\"Uranus\",\"Neptune\"]\n",
      "planetSideral = []\n",
      "for i in range(8):\n",
      "    if(i > 2):\n",
      "        sideral = ext(planetSynodic[i])\n",
      "    else:\n",
      "        sideral = inner(planetSynodic[i])\n",
      "        \n",
      "    planetSideral.append(sideral)\n",
      "    print planetNames[i],\":\", planetSideral[i], \"days\"\n",
      "    \n",
      "# mercury = inner(115.88)\n",
      "# print \"mercury:\", mercury\n",
      "# venus = inner(583.9)\n",
      "# print venus\n",
      "# mars = ext(398.9)\n",
      "# print mars\n",
      "# jupiter = ext(378.1)\n",
      "# print jupiter\n",
      "# saturn = ext(369.7)\n",
      "# print saturn\n",
      "# uranus = ext(367.5)\n",
      "# print uranus\n",
      "# netpune = ext(366.7)\n",
      "# print netpune\n"
     ],
     "language": "python",
     "metadata": {},
     "outputs": [
      {
       "output_type": "stream",
       "stream": "stdout",
       "text": [
        "mercury : 87.9703406564 days\n",
        "Venus : 224.695227309 days\n",
        "Earth : 182.562478603 days\n",
        "Mars : 4329.81352155 days\n",
        "Jupiter : 10747.1614786 days\n",
        "Saturn : 30344.4775281 days\n",
        "Uranus : 59657.5 days\n",
        "Neptune : 92370.4655172 days\n"
       ]
      }
     ],
     "prompt_number": 32
    },
    {
     "cell_type": "code",
     "collapsed": false,
     "input": [
      "# Exercise 2: Using the previous results and Kepler\u2019s Third Law, calculate the distance\n",
      "# (both in AU and Km.) from the Sun to the planets. Compare the results with\n",
      "# the real distances and elaborate your conclusion(s).\n",
      "M = 2e30 # sun mass\n",
      "G = 6.67e-11\n",
      "C = 4*pi**2/(G*M) # sun mass\n",
      "def distanceToSun(period):\n",
      "    period = period*24*60*60 # to seconds\n",
      "    distance (period**2/C)**(1/3) / 1000\n",
      "print \"mercury distance to sun:\", distanceToSun(mercury), \"km\"\n",
      "# Exercices 3\n"
     ],
     "language": "python",
     "metadata": {},
     "outputs": []
    },
    {
     "cell_type": "code",
     "collapsed": false,
     "input": [
      "# Sun\u2019s surface temperature\n",
      "# a) If the peak of the Sun\u2019s visible spectrum is at a wavelength of 500nm, use\n",
      "# Wien\u2019s Law to find its surface temperature.\n",
      "Tsurface=2.897e6/500\n",
      "print \"sun surface:\", Tsurface, \"K\""
     ],
     "language": "python",
     "metadata": {},
     "outputs": [
      {
       "output_type": "stream",
       "stream": "stdout",
       "text": [
        "sun surface: 5794.0 K\n"
       ]
      }
     ],
     "prompt_number": 35
    },
    {
     "cell_type": "code",
     "collapsed": false,
     "input": [
      "# Using the total energy output and the radius of the Sun, use the Stefan-\n",
      "# Boltzmann Law to find the Sun\u2019s surface temperature.\n",
      "sig = 5.67e-8\n",
      "A=2.812e23\n",
      "E = 3.852e26\n",
      "Tsurface=(E/(sig*A))**(1/4)\n",
      "print \"sun surface:\", Tsurface, \"K\""
     ],
     "language": "python",
     "metadata": {},
     "outputs": [
      {
       "output_type": "stream",
       "stream": "stdout",
       "text": [
        "sun surface: 394.250248556 K\n"
       ]
      }
     ],
     "prompt_number": 37
    },
    {
     "cell_type": "code",
     "collapsed": false,
     "input": [],
     "language": "python",
     "metadata": {},
     "outputs": []
    }
   ],
   "metadata": {}
  }
 ]
}