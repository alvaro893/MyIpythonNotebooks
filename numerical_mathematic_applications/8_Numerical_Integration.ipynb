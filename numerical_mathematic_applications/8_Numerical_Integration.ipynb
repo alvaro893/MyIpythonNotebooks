{
 "metadata": {
  "name": ""
 },
 "nbformat": 3,
 "nbformat_minor": 0,
 "worksheets": [
  {
   "cells": [
    {
     "cell_type": "markdown",
     "metadata": {},
     "source": [
      "# Week 8 - Numerical integration\n",
      "\n",
      "\u00c1lvaro Bola\u00f1os Rodr\u00edguez"
     ]
    },
    {
     "cell_type": "markdown",
     "metadata": {},
     "source": [
      "# Introduction\n",
      "\n",
      "Many functions cannot be integrated analytically, but can be evaluated [numerically](http://en.wikipedia.org/wiki/Numerical_integration). More important, numerical integration is used to solve differential equations. For example, the relationship between the speed and travelled distance is expressed in differential form $$ v(t) = \\dfrac{dx(t)}{dt} $$\n",
      "where \n",
      "\n",
      "- $ v(t) $ is the velocity,   \n",
      "- $ s(t) $ is the travelled distance, and\n",
      "- $ t $ is time.\n",
      "\n",
      "If we solve for the distance, the equation transforms to integral form\n",
      "$$ s(t) = \\int_{t_0}^{t_1}v(t) dt $$\n",
      "\n",
      "Sometimes, we even don't know the function analytically, but the integrand may be known only at certain points. Then we need to work with the samples of the function\n",
      "$$ f[n] = \\left \\{ f_0, f_1, f_2, ..., f_n \\right \\} $$ \n",
      "\n",
      "one of the simplest algorithm to estimate the numerical integral is [Trapezium rule](http://en.wikipedia.org/wiki/Trapezoidal_rule)\n",
      "$$ \\int_{a}^{b} f(x)\\, dx \\approx \\frac{h}{2} \\sum_{k=1}^{N} \\left( f(x_{k+1}) + f(x_{k}) \\right){}= \\frac{h}{2}(f(x_1) + 2f(x_2) + 2f(x_3) + \\ldots + 2f(x_N) + f(x_{N+1}))$$\n",
      "where\n",
      "\n",
      "- $ h = \\dfrac{b-a}{N} $ is the strip width\n",
      "- $ N $ is the number of strips\n",
      "\n",
      "The value for the integral can be calculated using an algorithm:\n",
      "\n",
      "    # give values for a, b, and N\n",
      "    # calculate h = (b-a)/N\n",
      "    # Calculate initial value for the integral s = h/2*(f(a) + f(b))\n",
      "    # for n = 1 to N-1 do\n",
      "    #     x = a + n*h\n",
      "    #     s = s + f(x)*h\n",
      "    # print s"
     ]
    },
    {
     "cell_type": "markdown",
     "metadata": {},
     "source": [
      "# Problem 1. \n",
      "\n",
      "\n",
      "## To do\n",
      "\n",
      "- Consider a function $ f(x) = 3x^2 $\n",
      "- Draw a plot of the function in domain $ x \\in \\left[0, 5 \\right] $\n",
      "- Write an algorithm that finds the numerical solution for $ A = \\int_0^5 3x^2 dx $\n",
      "- Use different values for division, for example try values $ N = 2, 3, 5, 10, 20, 30, ... $\n",
      "- What do you observe?\n",
      "- How many strips do you need to get the integral correct with two decimals (=125.00)?"
     ]
    },
    {
     "cell_type": "code",
     "collapsed": false,
     "input": [
      "from __future__ import division\n",
      "import numpy as np\n",
      "%pylab inline"
     ],
     "language": "python",
     "metadata": {},
     "outputs": [
      {
       "output_type": "stream",
       "stream": "stdout",
       "text": [
        "Populating the interactive namespace from numpy and matplotlib\n"
       ]
      }
     ],
     "prompt_number": 1
    },
    {
     "cell_type": "code",
     "collapsed": false,
     "input": [
      "# My implementation of the trapecium algorithm\n",
      "# f:function to integrate, [a,b]: interval, N: number of strips\n",
      "def trapecium(f, a, b, N):\n",
      "    h = (b - a)/N\n",
      "    s = h/2*(f(a) + f(b))\n",
      "    for n in range(1,N):\n",
      "        x = a + n*h\n",
      "        s = s + f(x)*h\n",
      "    return s\n",
      "    \n",
      "f = lambda(x): 3*x**2\n",
      "\n",
      "# Ploting the function\n",
      "x = linspace(0,5,1000)\n",
      "y = f(x)\n",
      "plot(x, y)\n",
      "title(\"$3x^{2}$\", fontsize = 20)"
     ],
     "language": "python",
     "metadata": {},
     "outputs": [
      {
       "metadata": {},
       "output_type": "pyout",
       "prompt_number": 2,
       "text": [
        "<matplotlib.text.Text at 0x6df1910>"
       ]
      },
      {
       "metadata": {},
       "output_type": "display_data",
       "png": "[encoded data removed]",
       "text": [
        "<matplotlib.figure.Figure at 0x6d2fd70>"
       ]
      }
     ],
     "prompt_number": 2
    },
    {
     "cell_type": "code",
     "collapsed": false,
     "input": [
      "for N in (2, 3, 5, 10, 20, 30, 50, 100, 1000):\n",
      "    print \"number of strips:\", N, \"\\n\", trapecium(f, 0, 5, N)\n"
     ],
     "language": "python",
     "metadata": {},
     "outputs": [
      {
       "output_type": "stream",
       "stream": "stdout",
       "text": [
        "number of strips: 2 \n",
        "140.625\n",
        "number of strips: 3 \n",
        "131.944444444\n",
        "number of strips: 5 \n",
        "127.5\n",
        "number of strips: 10 \n",
        "125.625\n",
        "number of strips: 20 \n",
        "125.15625\n",
        "number of strips: 30 \n",
        "125.069444444\n",
        "number of strips: 50 \n",
        "125.025\n",
        "number of strips: 100 \n",
        "125.00625\n",
        "number of strips: 1000 \n",
        "125.0000625\n"
       ]
      }
     ],
     "prompt_number": 3
    },
    {
     "cell_type": "markdown",
     "metadata": {},
     "source": [
      "We can observe while the number of strips increases, the accuracy as well. It get a two-decimal precision about in 100 strips"
     ]
    },
    {
     "cell_type": "markdown",
     "metadata": {},
     "source": [
      "# Problem 2.\n",
      "\n",
      "## To do 1\n",
      "\n",
      "- A car is put on the break and it's velocity follows the equation $ v(t) = 25.0 - 3.0 \\cdot t $, where t is in seconds.\n",
      "- Draw the velocity versus time. When does the car stop?\n",
      "- How far did the car travel in that time? \n",
      "- Use numerical integration to find the solution.\n",
      "\n",
      "## To do 2.\n",
      "\n",
      "- What if the velocity is $ v(t) = 25.0 \\cdot e^{-1.2t} $\n",
      "- Draw the velocity versus time and plot the distance travelled versus time.\n"
     ]
    },
    {
     "cell_type": "code",
     "collapsed": false,
     "input": [
      "v = lambda(t): 25.0 - 3.0*t\n",
      "\n",
      "# Plotting\n",
      "t = linspace(0,10,1000)\n",
      "plot(t, v(t))\n",
      "plot(t, t*0)\n",
      "xlabel(\"time (s)\", fontsize = 18)\n",
      "ylabel(\"velocity (m/s)\", fontsize = 18)\n",
      "\n",
      "# Time when the car stops\n",
      "t_stop = t[diff(v(t) > 0)]\n",
      "print \"stop time: \", t_stop, \"seconds\"\n",
      "\n",
      "# In order to figure out the distance we just need integrate between 0 and when the car stops\n",
      "print \"distance travelled:\", trapecium(v, 0, t_stop, 100), \"meters\"\n"
     ],
     "language": "python",
     "metadata": {},
     "outputs": [
      {
       "output_type": "stream",
       "stream": "stdout",
       "text": [
        "stop time:  [ 8.32832833] seconds\n",
        "distance travelled: [ 104.16662909] meters\n"
       ]
      },
      {
       "metadata": {},
       "output_type": "display_data",
       "png": "[encoded data removed]",
       "text": [
        "<matplotlib.figure.Figure at 0x6d2faf0>"
       ]
      }
     ],
     "prompt_number": 4
    },
    {
     "cell_type": "code",
     "collapsed": false,
     "input": [
      "v = lambda(t): 25.0*exp(-1.2*t)\n",
      "\n",
      "#Plotting\n",
      "t = linspace(0,10,1000)\n",
      "plot(t, v(t))\n",
      "plot(t, t*0)\n",
      "ylim(-0.5,25)\n",
      "xlabel(\"time (s)\", fontsize = 18)\n",
      "ylabel(\"velocity (m/s)\", fontsize = 18)\n",
      "\n",
      "# Time when the car stops\n",
      "t_stop = t[diff(v(t) > 0)]\n",
      "print \"stop time: \", t_stop, \"seconds\"\n",
      "\n",
      "# In order to figure out the distance we just need integrate between 0 and when the car stops\n",
      "print \"distance travelled:\", trapecium(v, 0, t_stop, 100), \"meters\"\n"
     ],
     "language": "python",
     "metadata": {},
     "outputs": [
      {
       "output_type": "stream",
       "stream": "stdout",
       "text": [
        "stop time:  [] seconds\n",
        "distance travelled: [] meters\n"
       ]
      },
      {
       "metadata": {},
       "output_type": "display_data",
       "png": "[encoded data removed]",
       "text": [
        "<matplotlib.figure.Figure at 0x72bc6f0>"
       ]
      }
     ],
     "prompt_number": 9
    },
    {
     "cell_type": "markdown",
     "metadata": {},
     "source": [
      "In this case the algoritmh fails because the function $ v(t) = 25.0 \\cdot e^{-1.2t} $ goes $v(t)=0$ (the car stops) when $t$ reachs infinity, in other words, the car is not going to stop, never."
     ]
    },
    {
     "cell_type": "markdown",
     "metadata": {},
     "source": [
      "# Problem 3.\n",
      "\n",
      "Below is a code that you can use to read in bicycling data recorded with Sport Tracker. The time stamps are given in format hh:mm:ss and the speed is given in km/h.\n",
      "\n",
      "## To do\n",
      "\n",
      "- What was the biker's average speed?\n",
      "- How much did the speed variate?\n",
      "- How far did the biker drive?\n"
     ]
    },
    {
     "cell_type": "code",
     "collapsed": false,
     "input": [
      "# Use pandas libraries\n",
      "import pandas as pd\n",
      "\n",
      "# Address for the file\n",
      "filename = 'http://users.metropolia.fi/~tommiluk/Notebooks/NPS/bicycling.csv'\n",
      "\n",
      "# Read in the csv-file. \n",
      "# Use ';' as separator.\n",
      "# Parse the first column as date/time\n",
      "# Make 'Time' column as index\n",
      "data = pd.read_csv(filename, ';', parse_dates = {'Time'}, index_col = 'Time')\n",
      "\n",
      "# Show the data\n",
      "data"
     ],
     "language": "python",
     "metadata": {},
     "outputs": [
      {
       "html": [
        "<div style=\"max-height:1000px;max-width:1500px;overflow:auto;\">\n",
        "<table border=\"1\" class=\"dataframe\">\n",
        "  <thead>\n",
        "    <tr style=\"text-align: right;\">\n",
        "      <th></th>\n",
        "      <th>Speed</th>\n",
        "    </tr>\n",
        "    <tr>\n",
        "      <th>Time</th>\n",
        "      <th></th>\n",
        "    </tr>\n",
        "  </thead>\n",
        "  <tbody>\n",
        "    <tr>\n",
        "      <th>2014-06-02 00:03:41</th>\n",
        "      <td>  8.1</td>\n",
        "    </tr>\n",
        "    <tr>\n",
        "      <th>2014-06-02 00:05:41</th>\n",
        "      <td> 15.0</td>\n",
        "    </tr>\n",
        "    <tr>\n",
        "      <th>2014-06-02 00:08:05</th>\n",
        "      <td> 12.5</td>\n",
        "    </tr>\n",
        "    <tr>\n",
        "      <th>2014-06-02 00:09:39</th>\n",
        "      <td> 19.2</td>\n",
        "    </tr>\n",
        "    <tr>\n",
        "      <th>2014-06-02 00:11:15</th>\n",
        "      <td> 18.7</td>\n",
        "    </tr>\n",
        "    <tr>\n",
        "      <th>2014-06-02 00:12:45</th>\n",
        "      <td> 20.1</td>\n",
        "    </tr>\n",
        "    <tr>\n",
        "      <th>2014-06-02 00:14:37</th>\n",
        "      <td> 16.0</td>\n",
        "    </tr>\n",
        "    <tr>\n",
        "      <th>2014-06-02 00:16:07</th>\n",
        "      <td> 20.1</td>\n",
        "    </tr>\n",
        "    <tr>\n",
        "      <th>2014-06-02 00:18:19</th>\n",
        "      <td> 13.6</td>\n",
        "    </tr>\n",
        "    <tr>\n",
        "      <th>2014-06-02 00:20:55</th>\n",
        "      <td> 11.6</td>\n",
        "    </tr>\n",
        "    <tr>\n",
        "      <th>2014-06-02 00:22:30</th>\n",
        "      <td> 18.9</td>\n",
        "    </tr>\n",
        "    <tr>\n",
        "      <th>2014-06-02 00:24:04</th>\n",
        "      <td> 19.1</td>\n",
        "    </tr>\n",
        "    <tr>\n",
        "      <th>2014-06-02 00:26:02</th>\n",
        "      <td> 15.2</td>\n",
        "    </tr>\n",
        "    <tr>\n",
        "      <th>2014-06-02 00:27:36</th>\n",
        "      <td> 19.2</td>\n",
        "    </tr>\n",
        "  </tbody>\n",
        "</table>\n",
        "<p>14 rows \u00d7 1 columns</p>\n",
        "</div>"
       ],
       "metadata": {},
       "output_type": "pyout",
       "prompt_number": 6,
       "text": [
        "                     Speed\n",
        "Time                      \n",
        "2014-06-02 00:03:41    8.1\n",
        "2014-06-02 00:05:41   15.0\n",
        "2014-06-02 00:08:05   12.5\n",
        "2014-06-02 00:09:39   19.2\n",
        "2014-06-02 00:11:15   18.7\n",
        "2014-06-02 00:12:45   20.1\n",
        "2014-06-02 00:14:37   16.0\n",
        "2014-06-02 00:16:07   20.1\n",
        "2014-06-02 00:18:19   13.6\n",
        "2014-06-02 00:20:55   11.6\n",
        "2014-06-02 00:22:30   18.9\n",
        "2014-06-02 00:24:04   19.1\n",
        "2014-06-02 00:26:02   15.2\n",
        "2014-06-02 00:27:36   19.2\n",
        "\n",
        "[14 rows x 1 columns]"
       ]
      }
     ],
     "prompt_number": 6
    },
    {
     "cell_type": "code",
     "collapsed": false,
     "input": [
      "# Plot the data\n",
      "data.plot()\n",
      "\n",
      "# The original data is unevenly sampled. \n",
      "# Convert the data so that you have evenly sampled data for every minute.\n",
      "converted = data.asfreq('1Min', method='backfill')\n",
      "\n",
      "\n",
      "# Get the time and speed data\n",
      "time = converted.index\n",
      "speed = converted['Speed']"
     ],
     "language": "python",
     "metadata": {},
     "outputs": [
      {
       "metadata": {},
       "output_type": "display_data",
       "png": "[encoded data removed]",
       "text": [
        "<matplotlib.figure.Figure at 0x724da70>"
       ]
      }
     ],
     "prompt_number": 7
    },
    {
     "cell_type": "markdown",
     "metadata": {},
     "source": [
      "See also: [Pandas IO Tools](http://pandas.pydata.org/pandas-docs/stable/io.html), [Pandas time series functionality](http://pandas.pydata.org/pandas-docs/stable/timeseries.html), [Viewing data in Pandas](http://pandas.pydata.org/pandas-docs/version/0.13.1/10min.html#viewing-data), [Applying functions to data](http://pandas.pydata.org/pandas-docs/stable/10min.html#apply)"
     ]
    },
    {
     "cell_type": "markdown",
     "metadata": {},
     "source": [
      "average aceleration is $$a=\\frac{\\Delta v}{\\Delta t}$$ \n",
      "average speed $$v=\\frac{\\Delta s}{\\Delta t} \\space \\Rightarrow \\space  \\Delta s = v\\Delta t \\space \\Rightarrow \\space  s_{f} - s_{i} = v\\Delta t \\space \\Rightarrow \\space  s_{f} = v\\Delta t + s_{i} $$\n",
      "As you can see the travelled distance could be calculated with the average speed\n",
      "\n"
     ]
    },
    {
     "cell_type": "code",
     "collapsed": false,
     "input": [
      "# NOTE: for some reason the last record does not have speed\n",
      "# value \"speed[-1]\" you get \"nan\" instead,\n",
      "# therefore I am going to assume \"speed[-2]\" as last value\n",
      "\n",
      "#What was the biker's average speed?\n",
      "#How much did the speed variate?\n",
      "#How far did the biker drive?\n",
      "\n",
      "# average speed\n",
      "v_m = sum(speed)/len(speed)-1 # - 1 because the last value is nan\n",
      "print \"average speed \", v_m, \"km/h\"\n",
      "\n",
      "# If we want to know how much the speed variate we must\n",
      "# to calculate the acceleration of each interval\n",
      "a = []\n",
      "for n in range(len(speed) - 2):\n",
      "    delta_t = (time[n+1] - time[n]).seconds/3600 \n",
      "    delta_v = speed[n+1] - speed[n]\n",
      "    a += [delta_v/delta_t,]\n",
      "\n",
      "plot(cumsum(time[:-2].second), a)\n",
      "xlabel(\"time (s)\", fontsize = 18)\n",
      "ylabel(\"acceleration ($km/h^2$)\", fontsize = 18)\n",
      "\n",
      "# space travelled (assuming s_i = 0)\n",
      "s_f = v_m * (time[-1] - time[0]).seconds/3600 # to hours\n",
      "print \"travelled distance\", s_f, \"(km)\", \"in\", time[-2] - time[0]\n",
      "\n"
     ],
     "language": "python",
     "metadata": {},
     "outputs": [
      {
       "output_type": "stream",
       "stream": "stdout",
       "text": [
        "average speed  14.392 km/h\n",
        "travelled distance"
       ]
      },
      {
       "output_type": "stream",
       "stream": "stdout",
       "text": [
        " 5.7568 (km) in 0:23:00\n"
       ]
      },
      {
       "metadata": {},
       "output_type": "display_data",
       "png": "[encoded data removed]",
       "text": [
        "<matplotlib.figure.Figure at 0x71c6330>"
       ]
      }
     ],
     "prompt_number": 8
    }
   ],
   "metadata": {}
  }
 ]
}