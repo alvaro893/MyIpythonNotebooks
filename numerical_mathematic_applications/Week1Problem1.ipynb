{
 "metadata": {
  "name": ""
 },
 "nbformat": 3,
 "nbformat_minor": 0,
 "worksheets": [
  {
   "cells": [
    {
     "cell_type": "heading",
     "level": 1,
     "metadata": {},
     "source": [
      "Problem 1: Spring mass system"
     ]
    },
    {
     "cell_type": "markdown",
     "metadata": {},
     "source": [
      "### To do\n",
      "\n",
      " - Make a plot of the data and fit a straight line to it.\n",
      " - What is the slope?\n",
      " - What would be the spring constant?."
     ]
    },
    {
     "cell_type": "code",
     "collapsed": false,
     "input": [
      "%pylab inline\n",
      "from __future__ import division"
     ],
     "language": "python",
     "metadata": {},
     "outputs": [
      {
       "output_type": "stream",
       "stream": "stdout",
       "text": [
        "\n",
        "Welcome to pylab, a matplotlib-based Python environment [backend: module://IPython.kernel.zmq.pylab.backend_inline].\n",
        "For more information, type 'help(pylab)'.\n"
       ]
      }
     ],
     "prompt_number": 1
    },
    {
     "cell_type": "code",
     "collapsed": false,
     "input": [
      "mass = arange(50, 600, 50)\n",
      "elong = array([1.000, 1.875, 2.750, 3.250, 4.375, 4.875, 5.675, 6.500, 7.250, 8.000, 8.750])"
     ],
     "language": "python",
     "metadata": {},
     "outputs": [
      {
       "output_type": "stream",
       "stream": "stdout",
       "text": [
        "[ 50 100 150 200 250 300 350 400 450 500 550]\n"
       ]
      }
     ],
     "prompt_number": 34
    },
    {
     "cell_type": "code",
     "collapsed": false,
     "input": [
      "plot(mass, elong, 'o')\n",
      "title(\"Data\")\n",
      "xlabel(\"mass\")\n",
      "ylabel(\"elong\")\n",
      "grid('on')"
     ],
     "language": "python",
     "metadata": {},
     "outputs": [
      {
       "metadata": {},
       "output_type": "display_data",
       "png": "[encoded data removed]",
       "text": [
        "<matplotlib.figure.Figure at 0x25dc990>"
       ]
      }
     ],
     "prompt_number": 35
    },
    {
     "cell_type": "markdown",
     "metadata": {},
     "source": [
      " Data should match the hook's law $F(x)=kx$ creating a straight line with slope $k$:\n",
      "    $$k=slope=\\frac{\\Delta y}{\\Delta x}$$\n",
      "    </br>\n",
      "    $\\Delta y$ could be from 0 to 8 and $\\Delta x$ from 0 to 500\n",
      "  "
     ]
    },
    {
     "cell_type": "code",
     "collapsed": false,
     "input": [
      "k = (8 - 0) / (500 - 0) # k is the slope and the spring coeficient\n",
      "x = arange(50, 600, 50) # x is an array with elements between 50 and 600 with steps of 50\n",
      "y = k*x # y stores the y-axis points wich have the 'k' slope of the straight line wich fits our data."
     ],
     "language": "python",
     "metadata": {},
     "outputs": [],
     "prompt_number": 38
    },
    {
     "cell_type": "code",
     "collapsed": false,
     "input": [
      "plot(x,y,'g-')\n",
      "plot(mass,elong,'o')\n",
      "title(\"Data and fit line\")\n",
      "grid('on')"
     ],
     "language": "python",
     "metadata": {},
     "outputs": [
      {
       "metadata": {},
       "output_type": "display_data",
       "png": "[encoded data removed]",
       "text": [
        "<matplotlib.figure.Figure at 0x25e4910>"
       ]
      }
     ],
     "prompt_number": 39
    },
    {
     "cell_type": "markdown",
     "metadata": {},
     "source": [
      "the spring coeficient is 0.016\n"
     ]
    },
    {
     "cell_type": "code",
     "collapsed": false,
     "input": [
      "print(k)"
     ],
     "language": "python",
     "metadata": {},
     "outputs": [
      {
       "output_type": "stream",
       "stream": "stdout",
       "text": [
        "0.016\n"
       ]
      }
     ],
     "prompt_number": 40
    },
    {
     "cell_type": "code",
     "collapsed": false,
     "input": [],
     "language": "python",
     "metadata": {},
     "outputs": []
    }
   ],
   "metadata": {}
  }
 ]
}