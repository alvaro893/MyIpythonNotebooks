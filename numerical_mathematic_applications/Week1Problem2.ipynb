{
 "metadata": {
  "name": "",
  "signature": "sha256:fc206bccb18b200272ba2ecad1578b0209aee04488b513a1942a57fc2abda35b"
 },
 "nbformat": 3,
 "nbformat_minor": 0,
 "worksheets": [
  {
   "cells": [
    {
     "cell_type": "heading",
     "level": 1,
     "metadata": {},
     "source": [
      "Problem 2. Sheep population."
     ]
    },
    {
     "cell_type": "markdown",
     "metadata": {},
     "source": [
      "### To do\n",
      "\n",
      "- Plot the data.   \n",
      "- Can you fit a straight line for this data?   \n",
      "- If not, then what kind of model would give the best fit?"
     ]
    },
    {
     "cell_type": "code",
     "collapsed": false,
     "input": [
      "%pylab inline\n",
      "from __future__ import division"
     ],
     "language": "python",
     "metadata": {},
     "outputs": [
      {
       "output_type": "stream",
       "stream": "stdout",
       "text": [
        "Populating the interactive namespace from numpy and matplotlib\n"
       ]
      }
     ],
     "prompt_number": 2
    },
    {
     "cell_type": "code",
     "collapsed": false,
     "input": [
      "year = array([1814, 1824, 1834, 1844, 1854, 1864])\n",
      "population = array([125, 275, 830, 1200, 1750, 1650])"
     ],
     "language": "python",
     "metadata": {},
     "outputs": [],
     "prompt_number": 3
    },
    {
     "cell_type": "code",
     "collapsed": false,
     "input": [
      "plot(year, population, 'o')\n",
      "title(\"Data\")\n",
      "xlabel(\"year\")\n",
      "ylabel(\"population\")\n",
      "grid('on')"
     ],
     "language": "python",
     "metadata": {},
     "outputs": [
      {
       "metadata": {},
       "output_type": "display_data",
       "png": "[encoded data removed]",
       "text": [
        "<matplotlib.figure.Figure at 0x2859510>"
       ]
      }
     ],
     "prompt_number": 4
    },
    {
     "cell_type": "markdown",
     "metadata": {},
     "source": [
      "we can fit a line in the data with the form $y=mx+b$, so lets find the slope: $m=\\frac{\\Delta y}{\\Delta x}$ </br>\n",
      "And then the y-intercept usually called $b$ .</br>\n",
      "I am going to use $(830,1834)$ and $(1200,1844)$ points"
     ]
    },
    {
     "cell_type": "code",
     "collapsed": false,
     "input": [
      "m = (1200 - 830)/(1844 - 1834)\n",
      "x = year\n",
      "b = 830 - m*1834 #Using whatever previous point \n",
      "y = m*x + b"
     ],
     "language": "python",
     "metadata": {},
     "outputs": [],
     "prompt_number": 6
    },
    {
     "cell_type": "code",
     "collapsed": false,
     "input": [
      "plot(x,y,'-g')\n",
      "plot(year, population, 'o')\n",
      "title(\"Data and fit line\")\n",
      "xlabel(\"year\")\n",
      "ylabel(\"population\")\n",
      "grid('on')\n"
     ],
     "language": "python",
     "metadata": {},
     "outputs": [
      {
       "metadata": {},
       "output_type": "display_data",
       "png": "[encoded data removed]",
       "text": [
        "<matplotlib.figure.Figure at 0x28c8c50>"
       ]
      }
     ],
     "prompt_number": 8
    },
    {
     "cell_type": "markdown",
     "metadata": {},
     "source": [
      "I think that is more or less the straight line fits well the data,</br>\n",
      "Therefore the linear model gives the best fit."
     ]
    },
    {
     "cell_type": "code",
     "collapsed": false,
     "input": [],
     "language": "python",
     "metadata": {},
     "outputs": []
    }
   ],
   "metadata": {}
  }
 ]
}