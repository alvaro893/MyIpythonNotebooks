{
 "metadata": {
  "name": "",
  "signature": "sha256:8157b74e64bf1722d8b32d33cc0c0385378d2246ab7e09ede8c44c68ed5439ac"
 },
 "nbformat": 3,
 "nbformat_minor": 0,
 "worksheets": [
  {
   "cells": [
    {
     "cell_type": "markdown",
     "metadata": {},
     "source": [
      "# Week 3 - Iterative solutions\n",
      "\n",
      "Introduction to Numerical Problem Solving   \n",
      "[CC-BY-NC-SA 3.0](http://creativecommons.org/licenses/by-nc-sa/3.0/) by Sakari Lukkarinen    \n",
      "School of ICT, Helsinki Metropolia UAS"
     ]
    },
    {
     "cell_type": "code",
     "collapsed": false,
     "input": [
      "# Remember to give these commands first\n",
      "%pylab inline\n",
      "from __future__ import division"
     ],
     "language": "python",
     "metadata": {},
     "outputs": [
      {
       "output_type": "stream",
       "stream": "stdout",
       "text": [
        "Populating the interactive namespace from numpy and matplotlib\n"
       ]
      }
     ],
     "prompt_number": 9
    },
    {
     "cell_type": "markdown",
     "metadata": {},
     "source": [
      "## Exercise 1.1. Simple while loops\n",
      "\n",
      "Study the [First steps towards programming](http://docs.python.org/2/tutorial/introduction.html#first-steps-towards-programming).\n",
      "\n",
      "### To do\n",
      "\n",
      "- Write a program that prints the positive integers 1, 3, 5, 7, ..., 99\n",
      "- Write a program that prints the Fibonacci series 1, 1, 2, 3, 5, 8, 13, 21, 34, 55, 89, 144, ...\n",
      "- Write a program that prints the sequence 1.05, 1.1025, 1.21550625, 1.47745544379, 2.18287458838, 4.7649414686, ... or,\n",
      "- Write a program that prints the geometric progression 1.05, 1.1025, 1.157625, 1.21550625, 1.2762815625, 1.34009564063, ...\n"
     ]
    },
    {
     "cell_type": "code",
     "collapsed": false,
     "input": [
      "# odd numbers to 99\n",
      "a = 1\n",
      "while a < 100:\n",
      "    print a,\n",
      "    a = a + 2\n"
     ],
     "language": "python",
     "metadata": {},
     "outputs": [
      {
       "output_type": "stream",
       "stream": "stdout",
       "text": [
        "1 3 5 7 9 11 13 15 17 19 21 23 25 27 29 31 33 35 37 39 41 43 45 47 49 51 53 55 57 59 61 63 65 67 69 71 73 75 77 79 81 83 85 87 89 91 93 95 97 99\n"
       ]
      }
     ],
     "prompt_number": 10
    },
    {
     "cell_type": "code",
     "collapsed": false,
     "input": [
      "#fibonacci\n",
      "i = 0\n",
      "fib = [0,1]\n",
      "while i < 20:\n",
      "    fib.append(fib[i] + fib[i+1])\n",
      "    i = i+1\n",
      "print fib\n",
      "\n",
      "    "
     ],
     "language": "python",
     "metadata": {},
     "outputs": [
      {
       "output_type": "stream",
       "stream": "stdout",
       "text": [
        "[0, 1, 1, 2, 3, 5, 8, 13, 21, 34, 55, 89, 144, 233, 377, 610, 987, 1597, 2584, 4181, 6765, 10946]\n"
       ]
      }
     ],
     "prompt_number": 11
    },
    {
     "cell_type": "code",
     "collapsed": false,
     "input": [
      "# squence"
     ],
     "language": "python",
     "metadata": {},
     "outputs": [],
     "prompt_number": 12
    },
    {
     "cell_type": "code",
     "collapsed": false,
     "input": [
      "# Geometric progression: the common ratio is 21/20=1.05\n",
      "i = 0\n",
      "r = 21/20\n",
      "series = [r]\n",
      "while i < 5:\n",
      "    series.append(r * series[i])\n",
      "    i = i + 1\n",
      "print series\n"
     ],
     "language": "python",
     "metadata": {},
     "outputs": [
      {
       "output_type": "stream",
       "stream": "stdout",
       "text": [
        "[1.05, 1.1025, 1.1576250000000001, 1.2155062500000002, 1.2762815625000004, 1.3400956406250004]\n"
       ]
      }
     ],
     "prompt_number": 13
    },
    {
     "cell_type": "markdown",
     "metadata": {},
     "source": [
      "## Exercise 1.2. More control flow tools\n",
      "\n",
      "Study the [Control flow tools](http://docs.python.org/2/tutorial/controlflow.html).\n",
      "\n",
      "### To do\n",
      "\n",
      "- Make an <code>if</code> statement that checks if x equals C\n",
      "- Make a function <code>my_check(x, c)</code> that checks if x equals to c and returns value True or False\n",
      "- Make a <code>for</code> loop that loops the values of x and checks if it equals to given constant C"
     ]
    },
    {
     "cell_type": "code",
     "collapsed": false,
     "input": [
      "# Example values\n",
      "x = 100\n",
      "C = 100\n",
      "# Here write your own code\n",
      "if (x == C):\n",
      "    print \"x is equals to C\"\n"
     ],
     "language": "python",
     "metadata": {},
     "outputs": [
      {
       "output_type": "stream",
       "stream": "stdout",
       "text": [
        "x is equals to C\n"
       ]
      }
     ],
     "prompt_number": 14
    },
    {
     "cell_type": "code",
     "collapsed": false,
     "input": [
      "##\n",
      "def my_check(x, c):\n",
      "    if(x == c):\n",
      "        return True\n",
      "    else:\n",
      "        return False\n",
      "print my_check(x,C);"
     ],
     "language": "python",
     "metadata": {},
     "outputs": [
      {
       "output_type": "stream",
       "stream": "stdout",
       "text": [
        "True\n"
       ]
      }
     ],
     "prompt_number": 15
    },
    {
     "cell_type": "code",
     "collapsed": false,
     "input": [
      "##\n",
      "i=0\n",
      "for i in range(200):\n",
      "    if(my_check(i,C)):\n",
      "        print i\n",
      "        break\n",
      "        "
     ],
     "language": "python",
     "metadata": {},
     "outputs": [
      {
       "output_type": "stream",
       "stream": "stdout",
       "text": [
        "100\n"
       ]
      }
     ],
     "prompt_number": 16
    },
    {
     "cell_type": "markdown",
     "metadata": {},
     "source": [
      "## Problem 1. Finding cubic root by iteration\n",
      "\n",
      "Consider a cubic equation $ x^3 = C,\\; C = 1092727 $. The solution is $ x = 103 $. \n",
      "\n",
      "### To do\n",
      "\n",
      "- Write a short program that solves iteratively the value of x.\n",
      "- You are allowed to use basic algebraic operations, like addition, subtraction, division, multiplication and power, but no any other mathematical functions like, sin, cos, exp, etc.\n",
      "- Test your algorithm with different integer values.\n"
     ]
    },
    {
     "cell_type": "code",
     "collapsed": false,
     "input": [
      "def search_cube(C,MAX_iterations):\n",
      "    if(C >= 0):\n",
      "        for x in arange(0, MAX_iterations, 0.001):\n",
      "            if(abs(x**3 - C) < 0.001):\n",
      "                return x\n",
      "    else:\n",
      "        for x in arange(-MAX_iterations, 0, 0.001):\n",
      "            if(abs(x**3 - C) < 0.001):\n",
      "                return x\n",
      "    print \"not found\"\n",
      "x = search_cube(1092727, 1000);\n",
      "print x"
     ],
     "language": "python",
     "metadata": {},
     "outputs": [
      {
       "output_type": "stream",
       "stream": "stdout",
       "text": [
        "103.0\n"
       ]
      }
     ],
     "prompt_number": 100
    },
    {
     "cell_type": "code",
     "collapsed": false,
     "input": [
      "# Checking the solution\n",
      "print \"x =\", x\n",
      "print \"x^3=\", x**3"
     ],
     "language": "python",
     "metadata": {},
     "outputs": [
      {
       "output_type": "stream",
       "stream": "stdout",
       "text": [
        "x = 103.0\n",
        "x^3= 1092727.0\n"
       ]
      }
     ],
     "prompt_number": 93
    },
    {
     "cell_type": "code",
     "collapsed": false,
     "input": [
      "# testing algorithm\n",
      "print \"test1:\",search_cube(1,1000)-1 < 0.001\n",
      "print \"test2:\",search_cube(8,1000)-2 < 0.001\n",
      "print \"test3:\",search_cube(27,1000)-3 < 0.001\n",
      "print \"test4:\",search_cube(64,1000)-4 < 0.001\n",
      "print \"test5:\",search_cube(-571787,1000)+83 < 0.001"
     ],
     "language": "python",
     "metadata": {},
     "outputs": [
      {
       "output_type": "stream",
       "stream": "stdout",
       "text": [
        "test1: True\n",
        "test2: True\n",
        "test3: True\n",
        "test4: True\n",
        "test5: "
       ]
      },
      {
       "output_type": "stream",
       "stream": "stdout",
       "text": [
        "True\n"
       ]
      }
     ],
     "prompt_number": 105
    },
    {
     "cell_type": "markdown",
     "metadata": {},
     "source": [
      "## Exercise 1. Error estimation\n",
      "\n",
      "Consider the following data"
     ]
    },
    {
     "cell_type": "code",
     "collapsed": false,
     "input": [
      "x = arange(10)\n",
      "k = 0.5\n",
      "y_fit = k*x\n",
      "j = randn(size(x))\n",
      "y = y_fit + randn(size(x))"
     ],
     "language": "python",
     "metadata": {},
     "outputs": [],
     "prompt_number": 140
    },
    {
     "cell_type": "markdown",
     "metadata": {},
     "source": [
      "The plot x versus y+e shows how the error disturbs the smooth linear curve."
     ]
    },
    {
     "cell_type": "code",
     "collapsed": false,
     "input": [
      "plot(x, y, 'o')\n",
      "plot(x, y_fit, 's-')"
     ],
     "language": "python",
     "metadata": {},
     "outputs": [
      {
       "metadata": {},
       "output_type": "pyout",
       "prompt_number": 141,
       "text": [
        "[<matplotlib.lines.Line2D at 0x59bf0d0>]"
       ]
      },
      {
       "metadata": {},
       "output_type": "display_data",
       "png": "[encoded data removed]",
       "text": [
        "<matplotlib.figure.Figure at 0x561da50>"
       ]
      }
     ],
     "prompt_number": 141
    },
    {
     "cell_type": "markdown",
     "metadata": {},
     "source": [
      "## To do\n",
      "\n",
      "- How much is the error in average? E.g. Calculate by looping the value of  $ e_{ave} = \\frac{1}{N}\\sum_{n=0}^{N-1} \\left( y[n] - y_{fit}[n]\\right) $ ?\n",
      "- Does the averaging work here?\n",
      "- Should we use something else to estimate the error?\n",
      "- What it would be?"
     ]
    },
    {
     "cell_type": "code",
     "collapsed": false,
     "input": [
      "e_ave = 0\n",
      "for n in range(len(y)-1):\n",
      "    e_ave = e_ave + (y[n] - y_fit[n])\n",
      "e_ave = (e_ave)/len(y)\n",
      "\n",
      "print \"e_ave: %f\" % e_ave\n",
      "\n",
      "# it seems like a bad result for the average\n",
      "# I think that it should to calculate an absolute value on (y[n] - y_fit[n])\n",
      "\n",
      "e_ave = 0\n",
      "for n in range(len(y)-1):\n",
      "    e_ave = e_ave + abs(y[n] - y_fit[n])\n",
      "e_ave = (e_ave)/len(y)\n",
      "\n",
      "print \"e_ave: %f\" % e_ave, \"with abs function\""
     ],
     "language": "python",
     "metadata": {},
     "outputs": [
      {
       "output_type": "stream",
       "stream": "stdout",
       "text": [
        "e_ave: -0.423912\n",
        "e_ave: 0.765335 with abs function\n"
       ]
      }
     ],
     "prompt_number": 142
    },
    {
     "cell_type": "code",
     "collapsed": false,
     "input": [
      "# Example how to iteratively calculate the sum of y-values.\n",
      "y_sum = 0\n",
      "for n in range(len(y)):\n",
      "    y_sum = y_sum + y[n]\n",
      "    \n",
      "print \"Sum of y =\", y_sum"
     ],
     "language": "python",
     "metadata": {},
     "outputs": [
      {
       "output_type": "stream",
       "stream": "stdout",
       "text": [
        "Sum of y = 18.1599140555\n"
       ]
      }
     ],
     "prompt_number": 143
    },
    {
     "cell_type": "markdown",
     "metadata": {},
     "source": [
      "## Exercises 2.2. Error estimation II\n",
      "\n",
      "Study the example given in the previous exercise.\n",
      "\n",
      "### To do\n",
      "\n",
      "- Calculate the following error estimates $$ e_1 = \\frac{1}{N}\\sum_{n=0}^{N-1} | y(n) - y_{fit}(n) | $$ $$ e_2 = \\sqrt{ \\frac{1}{N}\\sum_{n=0}^{N-1} \\left( y(n) - y_{fit}(n) \\right)^2 }$$\n",
      "- How much do they differ? Why?"
     ]
    },
    {
     "cell_type": "code",
     "collapsed": false,
     "input": [
      "#e1\n",
      "e1 = 0\n",
      "for n in range(len(y)-1):\n",
      "    e1 = e1 + abs((y[n] - y_fit[n]))\n",
      "e1 = (e1)/len(y)\n",
      "print \"e1:\",e1\n",
      "\n",
      "#e2\n",
      "e2 = 0\n",
      "for n in range(len(y)-1):\n",
      "    e2 = e2 + (y[n] - y_fit[n])**2\n",
      "e2 = sqrt((e2)/len(y))\n",
      "print \"e2:\",e2\n",
      "\n",
      "# difference\n",
      "print \"difference:\", e2 - e1"
     ],
     "language": "python",
     "metadata": {},
     "outputs": [
      {
       "output_type": "stream",
       "stream": "stdout",
       "text": [
        "e1: 0.765334930807\n",
        "e2: 0.95945807548\n",
        "difference: 0.194123144672\n"
       ]
      }
     ],
     "prompt_number": 144
    },
    {
     "cell_type": "markdown",
     "metadata": {},
     "source": [
      "- the first formula is the mean absolute error (MAE)\n",
      "- the second formula is the root mean squared error (RMSE)\n",
      "\n",
      "Both give the error average but in the MAE every errors have the same weight while the RMSE is most useful when large errors are particularly undesirable.\n",
      "\n",
      "The greater difference between them, the greater the variance in the individual errors in the sample. If the RMSE=MAE, then all the errors are of the same magnitude\n",
      "source: http://www.eumetcal.org/resources/ukmeteocal/verification/www/english/msg/ver_cont_var/uos3/uos3_ko1.htm"
     ]
    },
    {
     "cell_type": "markdown",
     "metadata": {},
     "source": [
      "## Problem 2. Curve fitting by minimizing the error\n",
      "\n",
      "Study the example given in exercise 1.2.\n",
      "\n",
      "### To do\n",
      "\n",
      "- Write an iterative algorithm that tries different values for the slope, $k$ and minimises the error.\n",
      "- The algorithm should print out the value of $k$.\n",
      "- Compare the results to that you get from <code>polyfit()</code> function."
     ]
    },
    {
     "cell_type": "code",
     "collapsed": false,
     "input": [
      "# iterative algorithm\n",
      "# it should be a function which try different values of the slope, calculates the error estimates and choose the best\n",
      "def search_best_slope(minimum,max):\n",
      "    list = []\n",
      "    for k in arange(minimum,max,0.001):\n",
      "        y_fit = k*x\n",
      "        e1 = 0\n",
      "        for n in range(len(y)-1):\n",
      "            e1 = e1 + abs((y[n] - y_fit[n]))\n",
      "        e1 = (e1)/len(y)\n",
      "        list.append(e1)\n",
      "    return min(list)\n",
      "        \n",
      "# Algorithm implementation\n",
      "k_alg = search_best_slope(-1,1)\n",
      "y_alg = k*x\n",
      "plot(x, y, 'o')\n",
      "plot(x, y_alg, '-')\n",
      "title(\"My algorithm\")"
     ],
     "language": "python",
     "metadata": {},
     "outputs": [
      {
       "metadata": {},
       "output_type": "pyout",
       "prompt_number": 145,
       "text": [
        "<matplotlib.text.Text at 0x65dd1d0>"
       ]
      },
      {
       "metadata": {},
       "output_type": "display_data",
       "png": "[encoded data removed]",
       "text": [
        "<matplotlib.figure.Figure at 0x5bf3e50>"
       ]
      }
     ],
     "prompt_number": 145
    },
    {
     "cell_type": "code",
     "collapsed": false,
     "input": [
      "# trying with polyfit function\n",
      "p = polyfit(x, y, 1)\n",
      "print p\n",
      "y_polyfit = polyval(p, x)\n",
      "plot(x, y, 'o')\n",
      "plot(x, y_polyfit, '-')\n",
      "title(\"polyfit algorithm\")"
     ],
     "language": "python",
     "metadata": {},
     "outputs": [
      {
       "output_type": "stream",
       "stream": "stdout",
       "text": [
        "[ 0.50408235 -0.45237915]\n"
       ]
      },
      {
       "metadata": {},
       "output_type": "pyout",
       "prompt_number": 146,
       "text": [
        "<matplotlib.text.Text at 0x6612510>"
       ]
      },
      {
       "metadata": {},
       "output_type": "display_data",
       "png": "[encoded data removed]",
       "text": [
        "<matplotlib.figure.Figure at 0x6245a90>"
       ]
      }
     ],
     "prompt_number": 146
    },
    {
     "cell_type": "code",
     "collapsed": false,
     "input": [
      "# to view all lines\n",
      "plot(x, y, 'o')\n",
      "plot(x, y_fit, '-')\n",
      "plot(x, y_alg, '-')\n",
      "plot(x, y_polyfit, '-')\n",
      "title(\"Original=green, my algorithm=red, polyfit=blue\")"
     ],
     "language": "python",
     "metadata": {},
     "outputs": [
      {
       "metadata": {},
       "output_type": "pyout",
       "prompt_number": 154,
       "text": [
        "<matplotlib.text.Text at 0x76f4150>"
       ]
      },
      {
       "metadata": {},
       "output_type": "display_data",
       "png": "[encoded data removed]",
       "text": [
        "<matplotlib.figure.Figure at 0x6a51d90>"
       ]
      }
     ],
     "prompt_number": 154
    },
    {
     "cell_type": "code",
     "collapsed": false,
     "input": [],
     "language": "python",
     "metadata": {},
     "outputs": []
    }
   ],
   "metadata": {}
  }
 ]
}