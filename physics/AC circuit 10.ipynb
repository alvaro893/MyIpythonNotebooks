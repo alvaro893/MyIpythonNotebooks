{
 "metadata": {
  "name": "",
  "signature": "sha256:f89a872c0c52d765f322760054e93993bcdad3d2c7e8df575e68e3e686393c04"
 },
 "nbformat": 3,
 "nbformat_minor": 0,
 "worksheets": [
  {
   "cells": [
    {
     "cell_type": "code",
     "collapsed": false,
     "input": [
      "%pylab inline\n",
      "from __future__ import division"
     ],
     "language": "python",
     "metadata": {},
     "outputs": [
      {
       "output_type": "stream",
       "stream": "stdout",
       "text": [
        "Populating the interactive namespace from numpy and matplotlib\n"
       ]
      }
     ],
     "prompt_number": 12
    },
    {
     "cell_type": "code",
     "collapsed": false,
     "input": [
      "vr = i*R\n",
      "vc = i*Xc\n",
      "vl = i*Xl\n",
      "print \"Voltage across resistance = \", around(vr,2), \"volts\"\n",
      "print \"Voltage across capacitor = \", around(vc,2), \"volts\"\n",
      "print \"Voltage across inductor = \", around(vl,2), \"volts\"\n",
      "sqrt(vr**2 + (vl - vc)**2)"
     ],
     "language": "python",
     "metadata": {},
     "outputs": []
    }
   ],
   "metadata": {}
  }
 ]
}