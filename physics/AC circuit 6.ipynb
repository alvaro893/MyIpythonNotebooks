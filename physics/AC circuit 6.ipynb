{
 "metadata": {
  "name": "",
  "signature": "sha256:630ce51409e57f040ea7229848545c8fb03c6469f30e3009f7b8312a042028d8"
 },
 "nbformat": 3,
 "nbformat_minor": 0,
 "worksheets": [
  {
   "cells": [
    {
     "cell_type": "code",
     "collapsed": false,
     "input": [
      "%pylab inline\n",
      "from __future__ import division"
     ],
     "language": "python",
     "metadata": {},
     "outputs": [
      {
       "output_type": "stream",
       "stream": "stdout",
       "text": [
        "Populating the interactive namespace from numpy and matplotlib\n"
       ]
      }
     ],
     "prompt_number": 1
    },
    {
     "cell_type": "code",
     "collapsed": true,
     "input": [
      "# Given data\n",
      "R=220\n",
      "C=6.20e-6\n",
      "v=25\n",
      "freq=40\n",
      "w=2*pi*freq\n",
      "L= 400e-3"
     ],
     "language": "python",
     "metadata": {},
     "outputs": [],
     "prompt_number": 2
    },
    {
     "cell_type": "code",
     "collapsed": false,
     "input": [
      "# a) impledance Z\n",
      "# the impedance is a complex number\n",
      "# z and zfi are the polar performing (absolute value and angle)\n",
      "Xl = w * L\n",
      "print \"Xl=\",Xl,\"ohm\"\n",
      "Xc = 1/(w * C)\n",
      "print \"Xc=\",Xc,\"ohm\"\n",
      "\n",
      "Z = complex(R , Xl - Xc)\n",
      "z = abs(Z)\n",
      "print \"|z|=\",abs(Z),\"ohm\"\n",
      "zfi = angle(Z, deg=0)\n",
      "print \"angle(rads)=\",zfi"
     ],
     "language": "python",
     "metadata": {},
     "outputs": [
      {
       "output_type": "stream",
       "stream": "stdout",
       "text": [
        "Xl= 100.530964915 ohm\n",
        "Xc= 641.75380279 ohm\n",
        "|z|= 584.227832474 ohm\n",
        "angle(rads)= -1.18471032319\n"
       ]
      }
     ],
     "prompt_number": 3
    },
    {
     "cell_type": "code",
     "collapsed": false,
     "input": [
      "# voltage vs currentw\n",
      "\n",
      "# only one period of time is represented\n",
      "t = linspace(0,2*pi/w, 100)\n",
      "\n",
      "# \n",
      "V = v* sin(w*t)\n",
      "plot(t,V)\n",
      "title(\"Voltage amplitude = \" + str(v) + \" volts\", fontsize = \"16\")\n"
     ],
     "language": "python",
     "metadata": {},
     "outputs": [
      {
       "metadata": {},
       "output_type": "pyout",
       "prompt_number": 4,
       "text": [
        "<matplotlib.text.Text at 0x7f325546d190>"
       ]
      },
      {
       "metadata": {},
       "output_type": "display_data",
       "png": "[encoded data removed]",
       "text": [
        "<matplotlib.figure.Figure at 0x7f32554cc610>"
       ]
      }
     ],
     "prompt_number": 4
    },
    {
     "cell_type": "code",
     "collapsed": false,
     "input": [
      "# b) current\n",
      "# Current vs time\n",
      "i = v/z\n",
      "I = i * sin(w*t + zfi)\n",
      "plot(t, I)\n",
      "title(\"current amplitude = \"+str(around(i, 2))+\" amps\", fontsize = \"16\")\n"
     ],
     "language": "python",
     "metadata": {},
     "outputs": [
      {
       "metadata": {},
       "output_type": "pyout",
       "prompt_number": 5,
       "text": [
        "<matplotlib.text.Text at 0x7f3255267690>"
       ]
      },
      {
       "metadata": {},
       "output_type": "display_data",
       "png": "[encoded data removed]",
       "text": [
        "<matplotlib.figure.Figure at 0x7f32554898d0>"
       ]
      }
     ],
     "prompt_number": 5
    },
    {
     "cell_type": "code",
     "collapsed": false,
     "input": [
      "# c) voltage across the components\n",
      "vr = i*R\n",
      "vc = i*Xc\n",
      "vl = i*Xl\n",
      "print \"Voltage across resistance = \", around(vr,2), \"volts\"\n",
      "print \"Voltage across capacitor = \", around(vc,2), \"volts\"\n",
      "print \"Voltage across inductor = \", around(vl,2), \"volts\"\n",
      "\n",
      "# we can check if the voltages match the voltage source\n",
      "print \"voltage source =\", sqrt(vr**2 + (vl - vc)**2),\"volts\""
     ],
     "language": "python",
     "metadata": {},
     "outputs": [
      {
       "output_type": "stream",
       "stream": "stdout",
       "text": [
        "Voltage across resistance =  9.41 volts\n",
        "Voltage across capacitor =  27.46 volts\n",
        "Voltage across inductor =  4.3 volts\n",
        "voltage source = 25.0 volts\n"
       ]
      }
     ],
     "prompt_number": 10
    },
    {
     "cell_type": "code",
     "collapsed": false,
     "input": [
      "# d) phase angle betwenn voltage and current\n",
      "print \"angle = \", zfi*180/pi , \"\u00ba\""
     ],
     "language": "python",
     "metadata": {},
     "outputs": [
      {
       "output_type": "stream",
       "stream": "stdout",
       "text": [
        "angle =  -67.8789014643 \u00ba\n"
       ]
      }
     ],
     "prompt_number": 7
    }
   ],
   "metadata": {}
  }
 ]
}