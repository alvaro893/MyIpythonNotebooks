{
 "metadata": {
  "name": "",
  "signature": "sha256:8a403615a592c8bc36d43e8916e31607d3486f85b683fd0c31a7e166c10b08c5"
 },
 "nbformat": 3,
 "nbformat_minor": 0,
 "worksheets": [
  {
   "cells": [
    {
     "cell_type": "code",
     "collapsed": false,
     "input": [
      "%pylab inline\n",
      "from __future__ import division\n",
      "import numpy as np\n",
      "\n",
      "def find_nearest(array,value):\n",
      "    idx = (np.abs(array-value)).argmin()\n",
      "    return idx"
     ],
     "language": "python",
     "metadata": {},
     "outputs": [
      {
       "output_type": "stream",
       "stream": "stdout",
       "text": [
        "Populating the interactive namespace from numpy and matplotlib\n"
       ]
      }
     ],
     "prompt_number": 34
    },
    {
     "cell_type": "markdown",
     "metadata": {},
     "source": [
      "##Magnetic field and force calculation\n",
      "- Magnetic field (Tesla) $$ B = \\mu_0\\left( \\frac{N}{g}\\right)I$$\n",
      "\n",
      "- Magnetic force (Newtons) $$F = \\frac{(N I)^{2}\\mu_0 A}{2 g}$$\n",
      "####Where\n",
      "- I = Current\n",
      "- g = Length of the gap between the solenoid and a piece of metal,\n",
      "- A = Area\n",
      "- N = Number of turns"
     ]
    },
    {
     "cell_type": "markdown",
     "metadata": {},
     "source": [
      "- Area $A$ Because our bolt is 2 pices we have to calculate the of each"
     ]
    },
    {
     "cell_type": "code",
     "collapsed": false,
     "input": [
      "L1 = 0.005\n",
      "L2 = 0.025\n",
      "L = L1 + L2\n",
      "r1 = 0.007\n",
      "r2 = 0.016\n",
      "\n",
      "a1 = 2*pi*r1**2 + L1*(2*pi*r1)\n",
      "a2 = 2*pi*r2**2 + L2*(2*pi*r2)\n",
      "a = a1 + a2\n",
      "print \"A = \", a, \"m^2\""
     ],
     "language": "python",
     "metadata": {},
     "outputs": [
      {
       "output_type": "stream",
       "stream": "stdout",
       "text": [
        "A =  0.00464955712731 m^2\n"
       ]
      }
     ],
     "prompt_number": 50
    },
    {
     "cell_type": "markdown",
     "metadata": {},
     "source": [
      "### Vacuum permeability $\\mu_0$"
     ]
    },
    {
     "cell_type": "code",
     "collapsed": false,
     "input": [
      "mu0 = 4*pi*1*1e-7\n",
      "mu = 0.25\n",
      "mu0"
     ],
     "language": "python",
     "metadata": {},
     "outputs": [
      {
       "metadata": {},
       "output_type": "pyout",
       "prompt_number": 51,
       "text": [
        "1.2566370614359173e-06"
       ]
      }
     ],
     "prompt_number": 51
    },
    {
     "cell_type": "markdown",
     "metadata": {},
     "source": [
      "####From our previous lab we had obtained $F = 2.8 N$ for the permanent magnet. We are going to match it using the force which we write above "
     ]
    },
    {
     "cell_type": "code",
     "collapsed": false,
     "input": [
      "# number of solenoid turns (chosen by us)\n",
      "N = 50\n",
      "\n",
      "# gap between magnet and solenoid (touching)\n",
      "g = 0.015\n",
      "\n",
      "# arbitrary interval of current\n",
      "I = arange(0,10,0.001)\n",
      "\n",
      "# F as dependent variable and I as independent\n",
      "F = ((N*I)**2*mu0*a)/(2*g**2)\n",
      "plot(I,F)\n",
      "xlabel(\"I Amps\", fontsize=16)\n",
      "ylabel(\"F newtons\", fontsize=16)\n",
      "title(\"finding the current\", fontsize=16)\n",
      "\n",
      "# ploting a line constant\n",
      "F2 = I*0 + 2.8 # Newtons\n",
      "plot(I,F2)"
     ],
     "language": "python",
     "metadata": {},
     "outputs": [
      {
       "metadata": {},
       "output_type": "pyout",
       "prompt_number": 52,
       "text": [
        "[<matplotlib.lines.Line2D at 0x7f1cf1392fd0>]"
       ]
      },
      {
       "metadata": {},
       "output_type": "display_data",
       "png": "[encoded data removed]",
       "text": [
        "<matplotlib.figure.Figure at 0x7f1cf16a2650>"
       ]
      }
     ],
     "prompt_number": 52
    },
    {
     "cell_type": "code",
     "collapsed": false,
     "input": [
      "i = I[find_nearest(F,F2)]\n",
      "print \"we need a I = \",i,\"Amps \\nfor a F = 2.8\" "
     ],
     "language": "python",
     "metadata": {},
     "outputs": [
      {
       "output_type": "stream",
       "stream": "stdout",
       "text": [
        "we need a I =  9.288 Amps \n",
        "for a F = 2.8\n"
       ]
      }
     ],
     "prompt_number": 53
    },
    {
     "cell_type": "markdown",
     "metadata": {},
     "source": [
      "###Now we calculate the nesesary voltage"
     ]
    },
    {
     "cell_type": "code",
     "collapsed": false,
     "input": [
      "#\n",
      "R = 0.2\n",
      "v = i*R\n",
      "print \"v:\",v,\" volts\""
     ],
     "language": "python",
     "metadata": {},
     "outputs": [
      {
       "output_type": "stream",
       "stream": "stdout",
       "text": [
        "v: 1.8576  volts\n"
       ]
      }
     ],
     "prompt_number": 54
    },
    {
     "cell_type": "markdown",
     "metadata": {},
     "source": [
      "###Knowing our I we can define the magnetic field value"
     ]
    },
    {
     "cell_type": "code",
     "collapsed": false,
     "input": [
      "B = mu0*N*i/g; print \"B = \",B,\"T\""
     ],
     "language": "python",
     "metadata": {},
     "outputs": [
      {
       "output_type": "stream",
       "stream": "stdout",
       "text": [
        "B =  0.0389054834221 T\n"
       ]
      }
     ],
     "prompt_number": 49
    }
   ],
   "metadata": {}
  }
 ]
}